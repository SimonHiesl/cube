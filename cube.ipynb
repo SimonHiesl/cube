{
 "cells": [
  {
   "cell_type": "code",
   "execution_count": 44,
   "metadata": {},
   "outputs": [
    {
     "name": "stdout",
     "output_type": "stream",
     "text": [
      "W O O W W O W W W \n",
      "B B B O O Y O O Y \n",
      "O O Y G G G G G G \n",
      "G G G W R R W R R \n",
      "W R R B B B B B B \n",
      "R R R Y Y Y Y Y Y \n"
     ]
    }
   ],
   "source": [
    "class RubiksCube:\n",
    "    def __init__(self):\n",
    "        # Initialize the cube with default colors\n",
    "        self.cube = [['W', 'W', 'W', 'W', 'W', 'W', 'W', 'W', 'W'], ['O', 'O', 'O', 'O', 'O', 'O', 'O', 'O', 'O'], ['G', 'G', 'G', 'G', 'G', 'G', 'G', 'G', 'G'], ['R', 'R', 'R', 'R', 'R', 'R', 'R', 'R', 'R'], ['B', 'B', 'B', 'B', 'B', 'B', 'B', 'B', 'B'], ['Y', 'Y', 'Y', 'Y', 'Y', 'Y', 'Y', 'Y', 'Y']]\n",
    "\n",
    "    def turn_u(self):\n",
    "        temp1, temp2, temp3 = self.cube[1][0], self.cube[1][1], self.cube[1][2]\n",
    "        temp4, temp5 = self.cube[0][0], self.cube[0][1]\n",
    "        self.cube[1][0], self.cube[1][1], self.cube[1][2] = self.cube[2][0], self.cube[2][1], self.cube[2][2]\n",
    "        self.cube[2][0], self.cube[2][1], self.cube[2][2] = self.cube[3][0], self.cube[3][1], self.cube[3][2]\n",
    "        self.cube[3][0], self.cube[3][1], self.cube[3][2] = self.cube[4][0], self.cube[4][1], self.cube[4][2]\n",
    "        self.cube[4][0], self.cube[4][1], self.cube[4][2] = temp1, temp2, temp3\n",
    "        self.cube[0][0], self.cube[0][6], self.cube[0][8], self.cube[0][2] = self.cube[0][6], self.cube[0][8], self.cube[0][2], temp4\n",
    "        self.cube[0][1], self.cube[0][3], self.cube[0][7], self.cube[0][2] = self.cube[0][3], self.cube[0][7], self.cube[0][5], temp5\n",
    "\n",
    "    def turn_u_prime(self):\n",
    "        temp1, temp2, temp3 = self.cube[1][0], self.cube[1][1], self.cube[1][2]\n",
    "        self.cube[1][0], self.cube[1][1], self.cube[1][2] = self.cube[4][0], self.cube[4][1], self.cube[4][2]\n",
    "        self.cube[4][0], self.cube[4][1], self.cube[4][2] = self.cube[3][0], self.cube[3][1], self.cube[3][2]\n",
    "        self.cube[3][0], self.cube[3][1], self.cube[3][2] = self.cube[2][0], self.cube[2][1], self.cube[2][2]\n",
    "        self.cube[2][0], self.cube[2][1], self.cube[2][2] = temp1, temp2, temp3\n",
    "    \n",
    "    def turn_u_2(self):\n",
    "        temp1, temp2, temp3 = self.cube[1][0], self.cube[1][1], self.cube[1][2]\n",
    "        temp4, temp4, temp6 = self.cube[2][0], self.cube[2][1], self.cube[2][2]\n",
    "        self.cube[1][0], self.cube[1][1], self.cube[1][2] = self.cube[3][0], self.cube[3][1], self.cube[3][2]\n",
    "        self.cube[3][0], self.cube[3][1], self.cube[3][2] = temp1, temp2, temp3\n",
    "        self.cube[2][0], self.cube[2][1], self.cube[2][2] = self.cube[4][0], self.cube[4][1], self.cube[4][2]\n",
    "        self.cube[4][0], self.cube[4][1], self.cube[4][2] = temp4, temp4, temp6\n",
    "    \n",
    "    def turn_f(self):\n",
    "        temp1, temp2, temp3 = self.cube[0][6], self.cube[0][7], self.cube[0][8]\n",
    "        self.cube[0][6], self.cube[0][7], self.cube[0][8] = self.cube[1][2], self.cube[1][5], self.cube[1][8]\n",
    "        self.cube[1][2], self.cube[1][5], self.cube[1][8] = self.cube[5][0], self.cube[5][1], self.cube[5][2]\n",
    "        self.cube[5][0], self.cube[5][1], self.cube[5][2] = self.cube[3][6], self.cube[3][3], self.cube[3][0]\n",
    "        self.cube[3][6], self.cube[3][3], self.cube[3][0] = temp3, temp2, temp1\n",
    "\n",
    "    def turn_f_prime(self):\n",
    "        temp1, temp2, temp3 = self.cube[0][6], self.cube[0][7], self.cube[0][8]\n",
    "        self.cube[0][6], self.cube[0][7], self.cube[0][8] = self.cube[3][6], self.cube[3][3], self.cube[3][0]\n",
    "        self.cube[3][6], self.cube[3][3], self.cube[3][0] = self.cube[5][0], self.cube[5][1], self.cube[5][2]\n",
    "        self.cube[5][0], self.cube[5][1], self.cube[5][2] = self.cube[1][2], self.cube[1][5], self.cube[1][8]\n",
    "        self.cube[1][2], self.cube[1][5], self.cube[1][8] = temp3, temp2, temp1\n",
    "    \n",
    "    def turn_f_2(self):\n",
    "        temp1, temp2, temp3 = self.cube[0][6], self.cube[0][7], self.cube[0][8]\n",
    "        temp4, temp4, temp6 = self.cube[1][2], self.cube[1][5], self.cube[1][8]\n",
    "        self.cube[0][6], self.cube[0][7], self.cube[0][8] = self.cube[5][0], self.cube[5][1], self.cube[5][2]\n",
    "        self.cube[5][0], self.cube[5][1], self.cube[5][2] = temp1, temp2, temp3\n",
    "        self.cube[1][2], self.cube[1][5], self.cube[1][8] = self.cube[3][6], self.cube[3][3], self.cube[3][0]\n",
    "        self.cube[3][6], self.cube[3][3], self.cube[3][0] = temp4, temp4, temp6\n",
    "\n",
    "    def print_cube(self):\n",
    "        # Print the current state of the cube\n",
    "        for face in self.cube:\n",
    "            for sticker in face:\n",
    "                print(sticker, end=' ')\n",
    "            print()\n",
    "\n",
    "# Example usage\n",
    "cube = RubiksCube()\n",
    "cube.turn_f()\n",
    "cube.print_cube()"
   ]
  }
 ],
 "metadata": {
  "kernelspec": {
   "display_name": "mpp",
   "language": "python",
   "name": "python3"
  },
  "language_info": {
   "codemirror_mode": {
    "name": "ipython",
    "version": 3
   },
   "file_extension": ".py",
   "mimetype": "text/x-python",
   "name": "python",
   "nbconvert_exporter": "python",
   "pygments_lexer": "ipython3",
   "version": "3.11.3"
  },
  "orig_nbformat": 4
 },
 "nbformat": 4,
 "nbformat_minor": 2
}
